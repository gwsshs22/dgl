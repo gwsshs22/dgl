{
 "cells": [
  {
   "cell_type": "code",
   "execution_count": 16,
   "id": "aeb5ca11-9541-4e5a-a940-9cc1054dfc37",
   "metadata": {},
   "outputs": [],
   "source": [
    "import torch\n",
    "import faiss\n",
    "import time\n",
    "from sklearn.metrics import f1_score"
   ]
  },
  {
   "cell_type": "code",
   "execution_count": 17,
   "id": "88bf6782-55ed-4521-8ed9-87bb446c26fc",
   "metadata": {},
   "outputs": [],
   "source": [
    "d = torch.load(\"gat_3.pt\")\n",
    "infer_target_mask = d[\"infer_target_mask\"]\n",
    "train_feats = d['features'][torch.logical_not(infer_target_mask)]\n",
    "train_labels = d['labels'][torch.logical_not(infer_target_mask)]\n",
    "train_embs = d['embeddings'][torch.logical_not(infer_target_mask)]\n",
    "query_feats = d['features'][infer_target_mask]\n",
    "query_labels = d['labels'][infer_target_mask]\n",
    "feat_dim = train_feats.shape[1]"
   ]
  },
  {
   "cell_type": "code",
   "execution_count": 21,
   "id": "c8b1ef98-dab5-47cc-b27b-631d5f7c9c5d",
   "metadata": {},
   "outputs": [
    {
     "name": "stdout",
     "output_type": "stream",
     "text": [
      "exec_time=0.0024348848006304573, acc1=0.3898802698174548, acc2=0.44045697542382306\n"
     ]
    }
   ],
   "source": [
    "def cal_labels(y_pred, multilabel):\n",
    "    if multilabel:\n",
    "        y_pred[y_pred > 0] = 1\n",
    "        y_pred[y_pred <= 0] = 0\n",
    "        return y_pred\n",
    "    else:\n",
    "        y_pred = np.argmax(y_pred, axis=1)\n",
    "        return y_pred\n",
    "\n",
    "def get_acc(y_true, y_pred, multilabel):\n",
    "    y_pred = cal_labels(y_pred, multilabel)\n",
    "    return f1_score(y_true, y_pred, average=\"micro\")\n",
    "\n",
    "def build_index(train_feats, nlist, nprobe):\n",
    "    res = faiss.StandardGpuResources()\n",
    "    quantizer = faiss.IndexFlatL2(train_feats.shape[1])  # the other index\n",
    "    index = faiss.IndexIVFFlat(quantizer, feat_dim, nlist)\n",
    "    gpu_index = faiss.index_cpu_to_gpu(res, 0, index)\n",
    "    gpu_index.train(train_feats)\n",
    "    gpu_index.add(train_feats)\n",
    "    gpu_index.nprobe = nprobe\n",
    "    return gpu_index\n",
    "\n",
    "index = build_index(train_feats, 1024, 1)\n",
    "\n",
    "true_labels_arr = []\n",
    "approx_embs_arr = []\n",
    "approx_labels_arr = []\n",
    "exec_time = 0\n",
    "query_idx = 1024\n",
    "while query_idx < query_feats.shape[0]:\n",
    "    f = query_feats[query_idx-1024:query_idx]\n",
    "    true_labels = query_labels[query_idx-1024:query_idx]\n",
    "    start_t = time.time()\n",
    "    r = index.search(f, 1)\n",
    "    exec_time += time.time() - start_t\n",
    "    approx_labels = train_labels[r[1].reshape(-1)]\n",
    "    approx_embs = train_embs[r[1].reshape(-1)]\n",
    "    approx_embs_arr.append(approx_embs)\n",
    "    true_labels_arr.append(true_labels)\n",
    "    approx_labels_arr.append(approx_labels)\n",
    "    query_idx += 1024\n",
    "\n",
    "true_labels = torch.concat(true_labels_arr)\n",
    "approx_labels = torch.concat(approx_labels_arr)\n",
    "approx_embs = torch.concat(approx_embs_arr)\n",
    "exec_time = exec_time / len(true_labels_arr)\n",
    "acc1 = f1_score(true_labels, approx_labels, average='micro')\n",
    "acc2 = get_acc(true_labels, approx_embs, True)\n",
    "print(f\"exec_time={exec_time}, acc1={acc1}, acc2={acc2}\")"
   ]
  }
 ],
 "metadata": {
  "kernelspec": {
   "display_name": "Python 3 (ipykernel)",
   "language": "python",
   "name": "python3"
  },
  "language_info": {
   "codemirror_mode": {
    "name": "ipython",
    "version": 3
   },
   "file_extension": ".py",
   "mimetype": "text/x-python",
   "name": "python",
   "nbconvert_exporter": "python",
   "pygments_lexer": "ipython3",
   "version": "3.8.18"
  }
 },
 "nbformat": 4,
 "nbformat_minor": 5
}
